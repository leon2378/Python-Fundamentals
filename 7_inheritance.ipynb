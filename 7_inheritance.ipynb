{
 "cells": [
  {
   "cell_type": "markdown",
   "metadata": {},
   "source": [
    "### Class Inheritance"
   ]
  },
  {
   "cell_type": "code",
   "execution_count": 9,
   "metadata": {},
   "outputs": [],
   "source": [
    "class Dog:\n",
    "    _legs = 4\n",
    "    def __init__(self, name):\n",
    "        self.name = name\n",
    "\n",
    "    def speak(self):\n",
    "        print(self.name + ' says: bark!')\n",
    "\n",
    "    def getLegs(self):\n",
    "        return self._legs\n",
    "    \n",
    "class Chihuahua(Dog):\n",
    "    def speak(self):\n",
    "        print(f'{self.name} says: yap yap yap!')\n",
    "\n",
    "    def wagTail(self):\n",
    "        print('Vigoruos wagging!')"
   ]
  },
  {
   "cell_type": "code",
   "execution_count": 10,
   "metadata": {},
   "outputs": [
    {
     "name": "stdout",
     "output_type": "stream",
     "text": [
      "Roxy says: yap yap yap!\n",
      "Vigoruos wagging!\n"
     ]
    }
   ],
   "source": [
    "dog = Chihuahua('Roxy')\n",
    "dog.speak()\n",
    "dog.wagTail()"
   ]
  },
  {
   "cell_type": "code",
   "execution_count": 8,
   "metadata": {},
   "outputs": [
    {
     "name": "stdout",
     "output_type": "stream",
     "text": [
      "Rover says: bark!\n"
     ]
    }
   ],
   "source": [
    "myDog = Dog('Rover')\n",
    "myDog.speak()"
   ]
  },
  {
   "cell_type": "code",
   "execution_count": null,
   "metadata": {},
   "outputs": [],
   "source": []
  }
 ],
 "metadata": {
  "kernelspec": {
   "display_name": "python_test",
   "language": "python",
   "name": "python3"
  },
  "language_info": {
   "codemirror_mode": {
    "name": "ipython",
    "version": 3
   },
   "file_extension": ".py",
   "mimetype": "text/x-python",
   "name": "python",
   "nbconvert_exporter": "python",
   "pygments_lexer": "ipython3",
   "version": "3.13.1"
  }
 },
 "nbformat": 4,
 "nbformat_minor": 2
}
