{
 "cells": [
  {
   "cell_type": "code",
   "execution_count": 1,
   "metadata": {},
   "outputs": [],
   "source": [
    "from datetime import datetime"
   ]
  },
  {
   "cell_type": "markdown",
   "metadata": {},
   "source": [
    "### While Loops"
   ]
  },
  {
   "cell_type": "code",
   "execution_count": 5,
   "metadata": {},
   "outputs": [
    {
     "data": {
      "text/plain": [
       "2"
      ]
     },
     "execution_count": 5,
     "metadata": {},
     "output_type": "execute_result"
    }
   ],
   "source": [
    "datetime.now().second"
   ]
  },
  {
   "cell_type": "code",
   "execution_count": 6,
   "metadata": {},
   "outputs": [
    {
     "data": {
      "text/plain": [
       "24"
      ]
     },
     "execution_count": 6,
     "metadata": {},
     "output_type": "execute_result"
    }
   ],
   "source": [
    "datetime.now().second + 2"
   ]
  },
  {
   "cell_type": "code",
   "execution_count": 7,
   "metadata": {},
   "outputs": [
    {
     "name": "stdout",
     "output_type": "stream",
     "text": [
      "We are at 50 seconds!\n"
     ]
    }
   ],
   "source": [
    "wait_until = (datetime.now().second + 2) % 60\n",
    "\n",
    "while datetime.now().second + 2 != wait_until:\n",
    "    print(\"Still Waiting!\")\n",
    "print(f'We are at {wait_until} seconds!')"
   ]
  },
  {
   "cell_type": "code",
   "execution_count": 8,
   "metadata": {},
   "outputs": [
    {
     "name": "stdout",
     "output_type": "stream",
     "text": [
      "We are at 46 seconds!\n"
     ]
    }
   ],
   "source": [
    "wait_until = (datetime.now().second + 2) % 60\n",
    "\n",
    "while datetime.now().second + 2 != wait_until:\n",
    "    1 + 1\n",
    "print(f'We are at {wait_until} seconds!')"
   ]
  },
  {
   "cell_type": "markdown",
   "metadata": {},
   "source": [
    "##### Pass "
   ]
  },
  {
   "cell_type": "code",
   "execution_count": 9,
   "metadata": {},
   "outputs": [
    {
     "name": "stdout",
     "output_type": "stream",
     "text": [
      "We are at 45 seconds!\n"
     ]
    }
   ],
   "source": [
    "wait_until = (datetime.now().second + 2) % 60\n",
    "\n",
    "while datetime.now().second + 2 != wait_until:\n",
    "    pass\n",
    "print(f'We are at {wait_until} seconds!')"
   ]
  },
  {
   "cell_type": "code",
   "execution_count": 10,
   "metadata": {},
   "outputs": [
    {
     "name": "stdout",
     "output_type": "stream",
     "text": [
      "We are at 36 seconds!\n"
     ]
    }
   ],
   "source": [
    "wait_until = (datetime.now().second + 2) % 60\n",
    "\n",
    "while True:\n",
    "    if datetime.now().second == wait_until:\n",
    "        print(f'We are at {wait_until} seconds!')\n",
    "        break"
   ]
  },
  {
   "cell_type": "code",
   "execution_count": null,
   "metadata": {},
   "outputs": [],
   "source": [
    "wait_until = (datetime.now().second + 2) % 60\n",
    "\n",
    "while True:\n",
    "    while datetime.now().second == wait_until:\n",
    "        print(f'We are at {wait_until} seconds!')\n",
    "        break"
   ]
  },
  {
   "cell_type": "markdown",
   "metadata": {},
   "source": [
    "##### Continue"
   ]
  },
  {
   "cell_type": "code",
   "execution_count": 12,
   "metadata": {},
   "outputs": [
    {
     "name": "stdout",
     "output_type": "stream",
     "text": [
      "We are at 35 seconds!\n"
     ]
    }
   ],
   "source": [
    "wait_until = (datetime.now().second + 2) % 60\n",
    "\n",
    "while datetime.now().second != wait_until:\n",
    "        continue\n",
    "        print('Still Waiting')\n",
    "print(f'We are at {wait_until} seconds!')"
   ]
  },
  {
   "cell_type": "code",
   "execution_count": 13,
   "metadata": {},
   "outputs": [
    {
     "name": "stdout",
     "output_type": "stream",
     "text": [
      "We are at 44 seconds!\n"
     ]
    }
   ],
   "source": [
    "wait_until = (datetime.now().second + 2) % 60\n",
    "\n",
    "while True:\n",
    "        if datetime.now().second < wait_until:\n",
    "            continue\n",
    "        break\n",
    "print(f'We are at {wait_until} seconds!')"
   ]
  },
  {
   "cell_type": "code",
   "execution_count": null,
   "metadata": {},
   "outputs": [],
   "source": []
  }
 ],
 "metadata": {
  "kernelspec": {
   "display_name": "python_test",
   "language": "python",
   "name": "python3"
  },
  "language_info": {
   "codemirror_mode": {
    "name": "ipython",
    "version": 3
   },
   "file_extension": ".py",
   "mimetype": "text/x-python",
   "name": "python",
   "nbconvert_exporter": "python",
   "pygments_lexer": "ipython3",
   "version": "3.13.1"
  }
 },
 "nbformat": 4,
 "nbformat_minor": 2
}
