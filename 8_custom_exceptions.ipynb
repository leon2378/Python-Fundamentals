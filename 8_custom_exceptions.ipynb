{
 "cells": [
  {
   "cell_type": "markdown",
   "metadata": {},
   "source": [
    "### Custom Exceptions"
   ]
  },
  {
   "cell_type": "code",
   "execution_count": null,
   "metadata": {},
   "outputs": [],
   "source": [
    "class CustomException(Exception):\n",
    "    pass\n",
    "\n",
    "\n",
    "def causeError():\n",
    "    raise CustomException('You called the causeError function!')\n",
    "    \n",
    "causeError()"
   ]
  }
 ],
 "metadata": {
  "kernelspec": {
   "display_name": "python_test",
   "language": "python",
   "name": "python3"
  },
  "language_info": {
   "name": "python",
   "version": "3.13.1"
  }
 },
 "nbformat": 4,
 "nbformat_minor": 2
}
