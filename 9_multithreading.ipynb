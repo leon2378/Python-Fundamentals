{
 "cells": [
  {
   "cell_type": "code",
   "execution_count": 2,
   "metadata": {},
   "outputs": [],
   "source": [
    "import threading\n",
    "import time"
   ]
  },
  {
   "cell_type": "markdown",
   "metadata": {},
   "source": [
    "### Threads"
   ]
  },
  {
   "cell_type": "code",
   "execution_count": 3,
   "metadata": {},
   "outputs": [
    {
     "data": {
      "text/plain": [
       "[0, 1, 4, 9, 16]"
      ]
     },
     "execution_count": 3,
     "metadata": {},
     "output_type": "execute_result"
    }
   ],
   "source": [
    "def longSquare(num):\n",
    "    time.sleep(1)\n",
    "    return num**2\n",
    "\n",
    "[longSquare(n) for n in range(0, 5)]"
   ]
  },
  {
   "cell_type": "code",
   "execution_count": 4,
   "metadata": {},
   "outputs": [],
   "source": [
    "t1 = threading.Thread(target=longSquare, args=(1,))\n",
    "t2 = threading.Thread(target=longSquare, args=(2,))\n",
    "\n",
    "t1.start()\n",
    "t2.start()\n",
    "\n",
    "t1.join()\n",
    "t2.join()"
   ]
  },
  {
   "cell_type": "code",
   "execution_count": 5,
   "metadata": {},
   "outputs": [
    {
     "name": "stdout",
     "output_type": "stream",
     "text": [
      "{1: 1, 2: 4}\n"
     ]
    }
   ],
   "source": [
    "def longSquare(num, results):\n",
    "    time.sleep(1)\n",
    "    results[num] = num**2\n",
    "\n",
    "results = {}\n",
    "t1 = threading.Thread(target=longSquare, args=(1,results))\n",
    "t2 = threading.Thread(target=longSquare, args=(2,results))\n",
    "\n",
    "t1.start()\n",
    "t2.start()\n",
    "\n",
    "t1.join()\n",
    "t2.join()\n",
    "\n",
    "print(results)"
   ]
  },
  {
   "cell_type": "code",
   "execution_count": 6,
   "metadata": {},
   "outputs": [
    {
     "name": "stdout",
     "output_type": "stream",
     "text": [
      "{2: 4, 3: 9, 1: 1, 0: 0, 5: 25, 8: 64, 6: 36, 4: 16, 7: 49, 9: 81, 10: 100, 11: 121, 12: 144, 17: 289, 15: 225, 14: 196, 16: 256, 13: 169, 19: 361, 20: 400, 18: 324, 21: 441, 24: 576, 25: 625, 23: 529, 22: 484, 28: 784, 27: 729, 26: 676, 30: 900, 32: 1024, 31: 961, 29: 841, 35: 1225, 34: 1156, 36: 1296, 33: 1089, 38: 1444, 37: 1369, 39: 1521, 43: 1849, 41: 1681, 40: 1600, 42: 1764, 47: 2209, 46: 2116, 45: 2025, 44: 1936, 51: 2601, 48: 2304, 50: 2500, 52: 2704, 49: 2401, 53: 2809, 55: 3025, 54: 2916, 56: 3136, 59: 3481, 61: 3721, 58: 3364, 60: 3600, 57: 3249, 62: 3844, 64: 4096, 63: 3969, 65: 4225, 69: 4761, 67: 4489, 66: 4356, 68: 4624, 73: 5329, 72: 5184, 71: 5041, 70: 4900, 78: 6084, 76: 5776, 77: 5929, 75: 5625, 74: 5476, 81: 6561, 80: 6400, 83: 6889, 82: 6724, 79: 6241, 86: 7396, 88: 7744, 87: 7569, 84: 7056, 85: 7225, 91: 8281, 90: 8100, 92: 8464, 89: 7921, 96: 9216, 97: 9409, 95: 9025, 94: 8836, 93: 8649, 99: 9801, 98: 9604}\n"
     ]
    }
   ],
   "source": [
    "def longSquare(num, results):\n",
    "    time.sleep(1)\n",
    "    results[num] = num**2\n",
    "\n",
    "results = {}\n",
    "threads = [threading.Thread(target=longSquare, args=(n, results)) for n in range(0, 100)]\n",
    "[t.start() for t in threads]\n",
    "[t.join() for t in threads]\n",
    "print(results)"
   ]
  },
  {
   "cell_type": "code",
   "execution_count": null,
   "metadata": {},
   "outputs": [],
   "source": []
  }
 ],
 "metadata": {
  "kernelspec": {
   "display_name": "python_test",
   "language": "python",
   "name": "python3"
  },
  "language_info": {
   "codemirror_mode": {
    "name": "ipython",
    "version": 3
   },
   "file_extension": ".py",
   "mimetype": "text/x-python",
   "name": "python",
   "nbconvert_exporter": "python",
   "pygments_lexer": "ipython3",
   "version": "3.13.1"
  }
 },
 "nbformat": 4,
 "nbformat_minor": 2
}
