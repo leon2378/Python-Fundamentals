{
 "cells": [
  {
   "cell_type": "markdown",
   "metadata": {},
   "source": [
    "### Function Scope"
   ]
  },
  {
   "cell_type": "code",
   "execution_count": 1,
   "metadata": {},
   "outputs": [
    {
     "name": "stdout",
     "output_type": "stream",
     "text": [
      "(1, 2)\n",
      "{'operation': 'sum'}\n"
     ]
    }
   ],
   "source": [
    "def performOperation(*args, **kwargs):\n",
    "    print(args)\n",
    "    print(kwargs)\n",
    "\n",
    "performOperation(1, 2, operation='sum')"
   ]
  },
  {
   "cell_type": "markdown",
   "metadata": {},
   "source": [
    "#####  locals()"
   ]
  },
  {
   "cell_type": "code",
   "execution_count": 2,
   "metadata": {},
   "outputs": [
    {
     "name": "stdout",
     "output_type": "stream",
     "text": [
      "{'num1': 1, 'num2': 2, 'operation': 'multiply'}\n"
     ]
    }
   ],
   "source": [
    "def performOperation(num1, num2, operation='sum'):\n",
    "    print(locals())\n",
    "\n",
    "performOperation(1, 2, operation='multiply')"
   ]
  },
  {
   "cell_type": "code",
   "execution_count": 3,
   "metadata": {},
   "outputs": [
    {
     "name": "stdout",
     "output_type": "stream",
     "text": [
      "{'num1': 1, 'num2': 2, 'operation': 'multiply'}\n"
     ]
    },
    {
     "ename": "NameError",
     "evalue": "name 'num1' is not defined",
     "output_type": "error",
     "traceback": [
      "\u001b[1;31m---------------------------------------------------------------------------\u001b[0m",
      "\u001b[1;31mNameError\u001b[0m                                 Traceback (most recent call last)",
      "Cell \u001b[1;32mIn[3], line 5\u001b[0m\n\u001b[0;32m      2\u001b[0m     \u001b[38;5;28mprint\u001b[39m(\u001b[38;5;28mlocals\u001b[39m())\n\u001b[0;32m      4\u001b[0m performOperation(\u001b[38;5;241m1\u001b[39m, \u001b[38;5;241m2\u001b[39m, operation\u001b[38;5;241m=\u001b[39m\u001b[38;5;124m'\u001b[39m\u001b[38;5;124mmultiply\u001b[39m\u001b[38;5;124m'\u001b[39m)\n\u001b[1;32m----> 5\u001b[0m \u001b[38;5;28mprint\u001b[39m(\u001b[43mnum1\u001b[49m)\n",
      "\u001b[1;31mNameError\u001b[0m: name 'num1' is not defined"
     ]
    }
   ],
   "source": [
    "def performOperation(num1, num2, operation='sum'):\n",
    "    print(locals())\n",
    "\n",
    "performOperation(1, 2, operation='multiply')\n",
    "print(num1)"
   ]
  },
  {
   "cell_type": "markdown",
   "metadata": {},
   "source": [
    "##### globals()"
   ]
  },
  {
   "cell_type": "code",
   "execution_count": 4,
   "metadata": {},
   "outputs": [
    {
     "data": {
      "text/plain": [
       "{'__name__': '__main__',\n",
       " '__doc__': 'Automatically created module for IPython interactive environment',\n",
       " '__package__': None,\n",
       " '__loader__': None,\n",
       " '__spec__': None,\n",
       " '__builtin__': <module 'builtins' (built-in)>,\n",
       " '__builtins__': <module 'builtins' (built-in)>,\n",
       " '_ih': ['',\n",
       "  \"def performOperation(*args, **kwargs):\\n    print(args)\\n    print(kwargs)\\n\\nperformOperation(1, 2, operation='sum')\",\n",
       "  \"def performOperation(num1, num2, operation='sum'):\\n    print(locals())\\n\\nperformOperation(1, 2, operation='multiply')\",\n",
       "  \"def performOperation(num1, num2, operation='sum'):\\n    print(locals())\\n\\nperformOperation(1, 2, operation='multiply')\\nprint(num1)\",\n",
       "  'globals()'],\n",
       " '_oh': {},\n",
       " '_dh': [WindowsPath('c:/Users/Leon-PC/Downloads/Projects/Python-Fundamentals')],\n",
       " 'In': ['',\n",
       "  \"def performOperation(*args, **kwargs):\\n    print(args)\\n    print(kwargs)\\n\\nperformOperation(1, 2, operation='sum')\",\n",
       "  \"def performOperation(num1, num2, operation='sum'):\\n    print(locals())\\n\\nperformOperation(1, 2, operation='multiply')\",\n",
       "  \"def performOperation(num1, num2, operation='sum'):\\n    print(locals())\\n\\nperformOperation(1, 2, operation='multiply')\\nprint(num1)\",\n",
       "  'globals()'],\n",
       " 'Out': {},\n",
       " 'get_ipython': <bound method InteractiveShell.get_ipython of <ipykernel.zmqshell.ZMQInteractiveShell object at 0x000001B313D3EE40>>,\n",
       " 'exit': <IPython.core.autocall.ZMQExitAutocall at 0x1b313dd86e0>,\n",
       " 'quit': <IPython.core.autocall.ZMQExitAutocall at 0x1b313dd86e0>,\n",
       " 'open': <function _io.open(file, mode='r', buffering=-1, encoding=None, errors=None, newline=None, closefd=True, opener=None)>,\n",
       " '_': '',\n",
       " '__': '',\n",
       " '___': '',\n",
       " '__vsc_ipynb_file__': 'c:\\\\Users\\\\Leon-PC\\\\Downloads\\\\Projects\\\\Python-Fundamentals\\\\6_variables_and_scope.ipynb',\n",
       " '_i': \"def performOperation(num1, num2, operation='sum'):\\n    print(locals())\\n\\nperformOperation(1, 2, operation='multiply')\\nprint(num1)\",\n",
       " '_ii': \"def performOperation(num1, num2, operation='sum'):\\n    print(locals())\\n\\nperformOperation(1, 2, operation='multiply')\",\n",
       " '_iii': \"def performOperation(*args, **kwargs):\\n    print(args)\\n    print(kwargs)\\n\\nperformOperation(1, 2, operation='sum')\",\n",
       " '_i1': \"def performOperation(*args, **kwargs):\\n    print(args)\\n    print(kwargs)\\n\\nperformOperation(1, 2, operation='sum')\",\n",
       " 'performOperation': <function __main__.performOperation(num1, num2, operation='sum')>,\n",
       " '_i2': \"def performOperation(num1, num2, operation='sum'):\\n    print(locals())\\n\\nperformOperation(1, 2, operation='multiply')\",\n",
       " '_i3': \"def performOperation(num1, num2, operation='sum'):\\n    print(locals())\\n\\nperformOperation(1, 2, operation='multiply')\\nprint(num1)\",\n",
       " '_i4': 'globals()'}"
      ]
     },
     "execution_count": 4,
     "metadata": {},
     "output_type": "execute_result"
    }
   ],
   "source": [
    "globals()"
   ]
  },
  {
   "cell_type": "markdown",
   "metadata": {},
   "source": [
    "##### Global and Local scope"
   ]
  },
  {
   "cell_type": "code",
   "execution_count": 5,
   "metadata": {},
   "outputs": [
    {
     "name": "stdout",
     "output_type": "stream",
     "text": [
      "{'varA': 1, 'varB': 2}\n",
      "{'varC': 3, 'varD': 4}\n"
     ]
    }
   ],
   "source": [
    "def function1(varA, varB):\n",
    "    print(locals())\n",
    "\n",
    "def function2(varC, varD):\n",
    "    print(locals())\n",
    "\n",
    "function1(1,2)\n",
    "function2(3,4)"
   ]
  },
  {
   "cell_type": "code",
   "execution_count": null,
   "metadata": {},
   "outputs": [],
   "source": [
    "def function1(varA, varB):\n",
    "    print(locals())\n",
    "\n",
    "def function2(varC, varD):\n",
    "    print(locals())\n",
    "\n",
    "function1(1,2)\n",
    "function2(3,4)"
   ]
  }
 ],
 "metadata": {
  "kernelspec": {
   "display_name": "python_test",
   "language": "python",
   "name": "python3"
  },
  "language_info": {
   "codemirror_mode": {
    "name": "ipython",
    "version": 3
   },
   "file_extension": ".py",
   "mimetype": "text/x-python",
   "name": "python",
   "nbconvert_exporter": "python",
   "pygments_lexer": "ipython3",
   "version": "3.13.1"
  }
 },
 "nbformat": 4,
 "nbformat_minor": 2
}
